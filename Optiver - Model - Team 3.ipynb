{
 "cells": [
  {
   "cell_type": "code",
   "execution_count": 1,
   "metadata": {},
   "outputs": [],
   "source": [
    "import pandas as pd\n",
    "import numpy as np\n",
    "import math\n",
    "import datetime"
   ]
  },
  {
   "cell_type": "markdown",
   "metadata": {},
   "source": [
    "# Data gathering and refining steps:"
   ]
  },
  {
   "cell_type": "markdown",
   "metadata": {},
   "source": [
    "Gathering data here"
   ]
  },
  {
   "cell_type": "code",
   "execution_count": 2,
   "metadata": {},
   "outputs": [],
   "source": [
    "train = pd.read_csv('train.csv')\n",
    "time_ids = pd.read_csv('time_id_reference.csv')\n",
    "book = pd.read_parquet('order_book_feature.parquet')"
   ]
  },
  {
   "cell_type": "markdown",
   "metadata": {},
   "source": [
    "Re indexing the book as per time stamp so its easier to handle in calculating volatility.\n",
    "Also Calculating the WAP"
   ]
  },
  {
   "cell_type": "code",
   "execution_count": 3,
   "metadata": {},
   "outputs": [
    {
     "data": {
      "text/html": [
       "<div>\n",
       "<style scoped>\n",
       "    .dataframe tbody tr th:only-of-type {\n",
       "        vertical-align: middle;\n",
       "    }\n",
       "\n",
       "    .dataframe tbody tr th {\n",
       "        vertical-align: top;\n",
       "    }\n",
       "\n",
       "    .dataframe thead th {\n",
       "        text-align: right;\n",
       "    }\n",
       "</style>\n",
       "<table border=\"1\" class=\"dataframe\">\n",
       "  <thead>\n",
       "    <tr style=\"text-align: right;\">\n",
       "      <th></th>\n",
       "      <th>stock_id</th>\n",
       "      <th>time_id</th>\n",
       "      <th>seconds_in_bucket</th>\n",
       "      <th>bid_price1</th>\n",
       "      <th>ask_price1</th>\n",
       "      <th>bid_price2</th>\n",
       "      <th>ask_price2</th>\n",
       "      <th>bid_size1</th>\n",
       "      <th>ask_size1</th>\n",
       "      <th>bid_size2</th>\n",
       "      <th>ask_size2</th>\n",
       "      <th>wap</th>\n",
       "    </tr>\n",
       "    <tr>\n",
       "      <th>ts</th>\n",
       "      <th></th>\n",
       "      <th></th>\n",
       "      <th></th>\n",
       "      <th></th>\n",
       "      <th></th>\n",
       "      <th></th>\n",
       "      <th></th>\n",
       "      <th></th>\n",
       "      <th></th>\n",
       "      <th></th>\n",
       "      <th></th>\n",
       "      <th></th>\n",
       "    </tr>\n",
       "  </thead>\n",
       "  <tbody>\n",
       "    <tr>\n",
       "      <th>21601.0</th>\n",
       "      <td>8382</td>\n",
       "      <td>12</td>\n",
       "      <td>1.0</td>\n",
       "      <td>722.17</td>\n",
       "      <td>722.63</td>\n",
       "      <td>722.15</td>\n",
       "      <td>722.64</td>\n",
       "      <td>100</td>\n",
       "      <td>25</td>\n",
       "      <td>25</td>\n",
       "      <td>20</td>\n",
       "      <td>722.538000</td>\n",
       "    </tr>\n",
       "    <tr>\n",
       "      <th>21602.0</th>\n",
       "      <td>8382</td>\n",
       "      <td>12</td>\n",
       "      <td>2.0</td>\n",
       "      <td>722.18</td>\n",
       "      <td>722.88</td>\n",
       "      <td>722.17</td>\n",
       "      <td>722.98</td>\n",
       "      <td>25</td>\n",
       "      <td>10</td>\n",
       "      <td>66</td>\n",
       "      <td>100</td>\n",
       "      <td>722.680000</td>\n",
       "    </tr>\n",
       "    <tr>\n",
       "      <th>21603.0</th>\n",
       "      <td>8382</td>\n",
       "      <td>12</td>\n",
       "      <td>3.0</td>\n",
       "      <td>722.33</td>\n",
       "      <td>722.65</td>\n",
       "      <td>722.27</td>\n",
       "      <td>722.74</td>\n",
       "      <td>25</td>\n",
       "      <td>120</td>\n",
       "      <td>200</td>\n",
       "      <td>25</td>\n",
       "      <td>722.385172</td>\n",
       "    </tr>\n",
       "    <tr>\n",
       "      <th>21604.0</th>\n",
       "      <td>8382</td>\n",
       "      <td>12</td>\n",
       "      <td>4.0</td>\n",
       "      <td>722.68</td>\n",
       "      <td>722.98</td>\n",
       "      <td>722.48</td>\n",
       "      <td>723.00</td>\n",
       "      <td>25</td>\n",
       "      <td>100</td>\n",
       "      <td>25</td>\n",
       "      <td>1</td>\n",
       "      <td>722.740000</td>\n",
       "    </tr>\n",
       "    <tr>\n",
       "      <th>21605.0</th>\n",
       "      <td>8382</td>\n",
       "      <td>12</td>\n",
       "      <td>5.0</td>\n",
       "      <td>722.52</td>\n",
       "      <td>722.96</td>\n",
       "      <td>722.42</td>\n",
       "      <td>722.97</td>\n",
       "      <td>125</td>\n",
       "      <td>20</td>\n",
       "      <td>3</td>\n",
       "      <td>110</td>\n",
       "      <td>722.899310</td>\n",
       "    </tr>\n",
       "  </tbody>\n",
       "</table>\n",
       "</div>"
      ],
      "text/plain": [
       "         stock_id  time_id  seconds_in_bucket  bid_price1  ask_price1   \n",
       "ts                                                                      \n",
       "21601.0      8382       12                1.0      722.17      722.63  \\\n",
       "21602.0      8382       12                2.0      722.18      722.88   \n",
       "21603.0      8382       12                3.0      722.33      722.65   \n",
       "21604.0      8382       12                4.0      722.68      722.98   \n",
       "21605.0      8382       12                5.0      722.52      722.96   \n",
       "\n",
       "         bid_price2  ask_price2  bid_size1  ask_size1  bid_size2  ask_size2   \n",
       "ts                                                                            \n",
       "21601.0      722.15      722.64        100         25         25         20  \\\n",
       "21602.0      722.17      722.98         25         10         66        100   \n",
       "21603.0      722.27      722.74         25        120        200         25   \n",
       "21604.0      722.48      723.00         25        100         25          1   \n",
       "21605.0      722.42      722.97        125         20          3        110   \n",
       "\n",
       "                wap  \n",
       "ts                   \n",
       "21601.0  722.538000  \n",
       "21602.0  722.680000  \n",
       "21603.0  722.385172  \n",
       "21604.0  722.740000  \n",
       "21605.0  722.899310  "
      ]
     },
     "execution_count": 3,
     "metadata": {},
     "output_type": "execute_result"
    }
   ],
   "source": [
    "book['ts'] = book['time_id'] * 1800 + book['seconds_in_bucket']\n",
    "book['wap'] = (book['bid_price1'] * book['ask_size1'] +\n",
    "                                book['ask_price1'] * book['bid_size1']) / (\n",
    "                                       book['bid_size1']+ book['ask_size1'])\n",
    "data = book.copy()\n",
    "book.set_index('ts', inplace=True)\n",
    "book.head()"
   ]
  },
  {
   "cell_type": "markdown",
   "metadata": {},
   "source": [
    "# Beta Calculation"
   ]
  },
  {
   "cell_type": "markdown",
   "metadata": {},
   "source": [
    "Below is the function used for calculating the Beta of the stock with S&P Index. Beta is defined as Covariance/(std. deviation of stock * std. deviation of S&P)\n",
    "\n",
    "Stock Intersect function is used to find common time IDs in the data given for the S&P index and the stock. So we only consider the time series data for the intersection of the 2 sets of data."
   ]
  },
  {
   "cell_type": "code",
   "execution_count": 4,
   "metadata": {},
   "outputs": [],
   "source": [
    "def stockIntersect(stock, spy):\n",
    "    stock = stock.reset_index()\n",
    "    spy = spy.reset_index()\n",
    "    \n",
    "    i = 0\n",
    "    j = 0\n",
    "    len_i = len(stock['log_return'])-1 \n",
    "    len_j = len(spy['log_return'])-1 \n",
    "    resStockWAP = []\n",
    "    resSpyWAP = []\n",
    "    \n",
    "    while i < len_i and j < len_j:\n",
    "        if (stock['seconds_in_bucket'][i] == spy['seconds_in_bucket'][j]):\n",
    "            resStockWAP.append(stock['wap'][i])\n",
    "            resSpyWAP.append(spy['wap'][j])\n",
    "            i += 1\n",
    "            j += 1\n",
    "        elif stock['seconds_in_bucket'][i] < spy['seconds_in_bucket'][j]:\n",
    "            i += 1\n",
    "        elif stock['seconds_in_bucket'][i] > spy['seconds_in_bucket'][j]:\n",
    "            j += 1\n",
    "    return resStockWAP, resSpyWAP"
   ]
  },
  {
   "cell_type": "code",
   "execution_count": 1,
   "metadata": {},
   "outputs": [],
   "source": [
    "def betaCalc(book, stock_id, time_id, local):\n",
    "    if stock_id == 50200:\n",
    "        beta = 0\n",
    "    else:\n",
    "        data_stock = book.loc[book['stock_id'] == stock_id]\n",
    "        data_spy = book.loc[book['stock_id'] == 50200]\n",
    "        \n",
    "        if local:\n",
    "            data_stock = data_stock.loc[data_stock['time_id'] == time_id]\n",
    "            data_spy = data_spy.loc[data_spy['time_id'] == time_id]\n",
    "\n",
    "        stock_wap, spy_wap = stockIntersect(data_stock, data_spy)\n",
    "\n",
    "        avg = np.average(stock_wap)\n",
    "        stock_dev = np.subtract(stock_wap,avg)\n",
    "        stock_std_dev = np.sqrt(np.sum(stock_dev**2))\n",
    "\n",
    "        spy_avg = np.average(spy_wap)\n",
    "        spy_dev = np.subtract(spy_wap,spy_avg)\n",
    "        spy_std_dev = np.sqrt(np.sum(spy_dev**2))\n",
    "\n",
    "        covariance = 0\n",
    "        for i in range(len(stock_dev)):\n",
    "            covariance += stock_dev[i] * spy_dev[i]\n",
    "\n",
    "        beta = covariance/(stock_std_dev*spy_std_dev)\n",
    "\n",
    "    return beta\n"
   ]
  },
  {
   "cell_type": "markdown",
   "metadata": {},
   "source": [
    "# Best Beta Calculator"
   ]
  },
  {
   "cell_type": "markdown",
   "metadata": {},
   "source": [
    "Calculates the most correlated stock from the list of stocks and returns the beta, stock_id"
   ]
  },
  {
   "cell_type": "code",
   "execution_count": 6,
   "metadata": {},
   "outputs": [],
   "source": [
    "from collections import defaultdict"
   ]
  },
  {
   "cell_type": "code",
   "execution_count": 7,
   "metadata": {},
   "outputs": [],
   "source": [
    "def bestBeta(book,stock_id,time_id):\n",
    "    stock_id_data = [9323, 22675, 22951, 22729, 48219 , 22753, 22771, 104919, 50200, 8382]\n",
    "    stockDict = defaultdict()\n",
    "    for sID in stock_id_data:\n",
    "        if sID != stock_id:\n",
    "            stockDict[sID] = betaCalc2(book,stock_id,time_id,sID)\n",
    "    \n",
    "    maxBeta = 0\n",
    "    maxBetasID = -1\n",
    "    for key in stockDict.keys():\n",
    "        if stockDict[key] >= maxBeta:\n",
    "            maxBetasID = key\n",
    "            maxBeta = stockDict[key]\n",
    "    \n",
    "    return maxBeta, maxBetasID\n",
    "\n",
    "def betaCalc2(book, stock_id, time_id, compare_stock_id):\n",
    "    if stock_id == compare_stock_id:\n",
    "        beta = 0\n",
    "    else:\n",
    "        data_stock = book.loc[book['stock_id'] == stock_id]\n",
    "        data_stock = data_stock.loc[data_stock['time_id'] == time_id]\n",
    "        data_compare = book.loc[book['stock_id'] == compare_stock_id]\n",
    "        data_compare = data_compare.loc[data_spy['time_id'] == time_id]\n",
    "\n",
    "        stock_wap, compare_wap = stockIntersect(data_stock, data_compare)\n",
    "\n",
    "        avg = np.average(stock_wap)\n",
    "        stock_dev = np.subtract(stock_wap,avg)\n",
    "        stock_std_dev = np.sqrt(np.sum(stock_dev**2))\n",
    "\n",
    "        compare_avg = np.average(compare_wap)\n",
    "        compare_dev = np.subtract(compare_wap,compare_avg)\n",
    "        compare_std_dev = np.sqrt(np.sum(compare_dev**2))\n",
    "\n",
    "        covariance = 0\n",
    "        for i in range(len(stock_dev)):\n",
    "            covariance += stock_dev[i] * compare_dev[i]\n",
    "\n",
    "        beta = covariance/(stock_std_dev*compare_std_dev)\n",
    "\n",
    "    return beta     "
   ]
  },
  {
   "cell_type": "markdown",
   "metadata": {},
   "source": [
    "# Volatility Calculation code"
   ]
  },
  {
   "cell_type": "markdown",
   "metadata": {},
   "source": [
    "# Weighted Average Volatility Estimator"
   ]
  },
  {
   "cell_type": "markdown",
   "metadata": {},
   "source": [
    "Calculates volatility by splitting the 30 mins into 2 intervals of 10 and 20 mins. Takes a weighted average of weights 0.7 and 0.3 respectively"
   ]
  },
  {
   "cell_type": "code",
   "execution_count": 8,
   "metadata": {},
   "outputs": [],
   "source": [
    "def averageTrades(tradeList):\n",
    "    sum = 0\n",
    "    quant = 0\n",
    "    for trade in tradeList:\n",
    "        quant += trade['quantity']\n",
    "        sum += trade['price'] * trade['quantity']\n",
    "\n",
    "    return sum / quant"
   ]
  },
  {
   "cell_type": "code",
   "execution_count": 9,
   "metadata": {},
   "outputs": [],
   "source": [
    "# Turn book data into vol\n",
    "def bookToVol(book, start, end):\n",
    "    prev = None\n",
    "    first = True\n",
    "    logRSum = 0\n",
    "    for ts in range(start, end):\n",
    "        if ts in book.index:\n",
    "            if first:\n",
    "                prev = book.at[ts, 'wap']\n",
    "                first = False\n",
    "            else:\n",
    "                curr = book.at[ts, 'wap']\n",
    "                logRSum += (np.log(curr) - np.log(prev))**2\n",
    "                prev = curr\n",
    "    return np.sqrt(logRSum)"
   ]
  },
  {
   "cell_type": "markdown",
   "metadata": {},
   "source": [
    "Weighted Average Volatility calculator for a stock on specific time ID"
   ]
  },
  {
   "cell_type": "code",
   "execution_count": 10,
   "metadata": {},
   "outputs": [],
   "source": [
    "# Determine the price movement over a given timespan\n",
    "def vol_calc(book, time_id, seconds, stock):\n",
    "    # Setup variables\n",
    "    # Period1 = 10 mins back, Period2 = 30mins back\n",
    "    period1 = 600\n",
    "    period2 = 1800\n",
    "    # Setup lists that will contain the book waps for those periods\n",
    "    thirtyToTenList = []\n",
    "    tenToNowList = []\n",
    "    # Take the subset of the book that relates to the stock we want to investigate\n",
    "    stockBooks = book.loc[book['stock_id'] == stock]\n",
    "\n",
    "    # Define the timestamps for our investigated periods\n",
    "    lookback30 = {\n",
    "            'start' : (time_id+1) * 1800 + seconds - period2,\n",
    "            'end' : (time_id+1) * 1800 + seconds - period1\n",
    "        }\n",
    "    lookback10 = {\n",
    "            'start' : (time_id+1) * 1800 + seconds - period1,\n",
    "            'end' : (time_id+1) * 1800 + seconds\n",
    "        }\n",
    "        \n",
    "    # Get the vol for the 30min to 10min lookback period\n",
    "    thirtyToTenVol = bookToVol(stockBooks, lookback30['start'], lookback30['end'])\n",
    "    \n",
    "    # This one is for the 10min to now lookback period\n",
    "    tenToNowVol = bookToVol(stockBooks, lookback10['start'], lookback10['end'])\n",
    "    # Our formula :)\n",
    "    return 0.7*tenToNowVol + 0.3*thirtyToTenVol"
   ]
  },
  {
   "cell_type": "markdown",
   "metadata": {},
   "source": [
    "# General Vol Calculator"
   ]
  },
  {
   "cell_type": "markdown",
   "metadata": {},
   "source": [
    "Uses Log returns - Basically Naive Model"
   ]
  },
  {
   "cell_type": "code",
   "execution_count": 11,
   "metadata": {},
   "outputs": [
    {
     "data": {
      "text/html": [
       "<div>\n",
       "<style scoped>\n",
       "    .dataframe tbody tr th:only-of-type {\n",
       "        vertical-align: middle;\n",
       "    }\n",
       "\n",
       "    .dataframe tbody tr th {\n",
       "        vertical-align: top;\n",
       "    }\n",
       "\n",
       "    .dataframe thead th {\n",
       "        text-align: right;\n",
       "    }\n",
       "</style>\n",
       "<table border=\"1\" class=\"dataframe\">\n",
       "  <thead>\n",
       "    <tr style=\"text-align: right;\">\n",
       "      <th></th>\n",
       "      <th>stock_id</th>\n",
       "      <th>time_id</th>\n",
       "      <th>seconds_in_bucket</th>\n",
       "      <th>bid_price1</th>\n",
       "      <th>ask_price1</th>\n",
       "      <th>bid_price2</th>\n",
       "      <th>ask_price2</th>\n",
       "      <th>bid_size1</th>\n",
       "      <th>ask_size1</th>\n",
       "      <th>bid_size2</th>\n",
       "      <th>ask_size2</th>\n",
       "      <th>ts</th>\n",
       "      <th>wap</th>\n",
       "      <th>log_return</th>\n",
       "    </tr>\n",
       "  </thead>\n",
       "  <tbody>\n",
       "    <tr>\n",
       "      <th>1</th>\n",
       "      <td>8382</td>\n",
       "      <td>12</td>\n",
       "      <td>2.0</td>\n",
       "      <td>722.18</td>\n",
       "      <td>722.88</td>\n",
       "      <td>722.17</td>\n",
       "      <td>722.98</td>\n",
       "      <td>25</td>\n",
       "      <td>10</td>\n",
       "      <td>66</td>\n",
       "      <td>100</td>\n",
       "      <td>21602.0</td>\n",
       "      <td>722.680000</td>\n",
       "      <td>0.000197</td>\n",
       "    </tr>\n",
       "    <tr>\n",
       "      <th>2</th>\n",
       "      <td>8382</td>\n",
       "      <td>12</td>\n",
       "      <td>3.0</td>\n",
       "      <td>722.33</td>\n",
       "      <td>722.65</td>\n",
       "      <td>722.27</td>\n",
       "      <td>722.74</td>\n",
       "      <td>25</td>\n",
       "      <td>120</td>\n",
       "      <td>200</td>\n",
       "      <td>25</td>\n",
       "      <td>21603.0</td>\n",
       "      <td>722.385172</td>\n",
       "      <td>-0.000408</td>\n",
       "    </tr>\n",
       "    <tr>\n",
       "      <th>3</th>\n",
       "      <td>8382</td>\n",
       "      <td>12</td>\n",
       "      <td>4.0</td>\n",
       "      <td>722.68</td>\n",
       "      <td>722.98</td>\n",
       "      <td>722.48</td>\n",
       "      <td>723.00</td>\n",
       "      <td>25</td>\n",
       "      <td>100</td>\n",
       "      <td>25</td>\n",
       "      <td>1</td>\n",
       "      <td>21604.0</td>\n",
       "      <td>722.740000</td>\n",
       "      <td>0.000491</td>\n",
       "    </tr>\n",
       "    <tr>\n",
       "      <th>4</th>\n",
       "      <td>8382</td>\n",
       "      <td>12</td>\n",
       "      <td>5.0</td>\n",
       "      <td>722.52</td>\n",
       "      <td>722.96</td>\n",
       "      <td>722.42</td>\n",
       "      <td>722.97</td>\n",
       "      <td>125</td>\n",
       "      <td>20</td>\n",
       "      <td>3</td>\n",
       "      <td>110</td>\n",
       "      <td>21605.0</td>\n",
       "      <td>722.899310</td>\n",
       "      <td>0.000220</td>\n",
       "    </tr>\n",
       "    <tr>\n",
       "      <th>5</th>\n",
       "      <td>8382</td>\n",
       "      <td>12</td>\n",
       "      <td>6.0</td>\n",
       "      <td>722.36</td>\n",
       "      <td>722.69</td>\n",
       "      <td>722.35</td>\n",
       "      <td>722.70</td>\n",
       "      <td>2</td>\n",
       "      <td>20</td>\n",
       "      <td>25</td>\n",
       "      <td>100</td>\n",
       "      <td>21606.0</td>\n",
       "      <td>722.390000</td>\n",
       "      <td>-0.000705</td>\n",
       "    </tr>\n",
       "  </tbody>\n",
       "</table>\n",
       "</div>"
      ],
      "text/plain": [
       "   stock_id  time_id  seconds_in_bucket  bid_price1  ask_price1  bid_price2   \n",
       "1      8382       12                2.0      722.18      722.88      722.17  \\\n",
       "2      8382       12                3.0      722.33      722.65      722.27   \n",
       "3      8382       12                4.0      722.68      722.98      722.48   \n",
       "4      8382       12                5.0      722.52      722.96      722.42   \n",
       "5      8382       12                6.0      722.36      722.69      722.35   \n",
       "\n",
       "   ask_price2  bid_size1  ask_size1  bid_size2  ask_size2       ts   \n",
       "1      722.98         25         10         66        100  21602.0  \\\n",
       "2      722.74         25        120        200         25  21603.0   \n",
       "3      723.00         25        100         25          1  21604.0   \n",
       "4      722.97        125         20          3        110  21605.0   \n",
       "5      722.70          2         20         25        100  21606.0   \n",
       "\n",
       "          wap  log_return  \n",
       "1  722.680000    0.000197  \n",
       "2  722.385172   -0.000408  \n",
       "3  722.740000    0.000491  \n",
       "4  722.899310    0.000220  \n",
       "5  722.390000   -0.000705  "
      ]
     },
     "execution_count": 11,
     "metadata": {},
     "output_type": "execute_result"
    }
   ],
   "source": [
    "def log_return(list_stock_prices):\n",
    "    return np.log(list_stock_prices).diff() \n",
    "\n",
    "data['log_return'] = data.groupby(['time_id','stock_id'], group_keys=False)['wap'].apply(log_return)\n",
    "data = data[~data['log_return'].isnull()]\n",
    "data.head()"
   ]
  },
  {
   "cell_type": "code",
   "execution_count": 12,
   "metadata": {},
   "outputs": [],
   "source": [
    "def gen_vol_calc(book,stock_id,time_id, beta):\n",
    "    \n",
    "    data_stock = book.loc[book['stock_id'] == stock_id]\n",
    "    data_stock = data_stock.loc[data_stock['time_id'] == time_id]\n",
    "    \n",
    "    vol_stock = np.sqrt(np.sum(data_stock['log_return']**2))\n",
    "    \n",
    "    data_spy = book.loc[book['stock_id'] == 50200]\n",
    "    data_spy = data_spy.loc[data_spy['time_id'] == time_id]\n",
    "    \n",
    "    vol_spy_curr = np.sqrt(np.sum(data_spy['log_return']**2))\n",
    "    if stock_id != 50200:\n",
    "#         beta = betaCalc(book,stock_id,time_id)\n",
    "        if time_id != 12:\n",
    "            data_spy_prev = book.loc[book['stock_id'] == 50200].copy()\n",
    "            data_spy_prev = data_spy_prev.loc[data_spy_prev['time_id'] == time_id-1].copy()\n",
    "            vol_spy_prev = np.sqrt(np.sum(data_spy_prev['log_return']**2))\n",
    "        else:\n",
    "            vol_spy_prev = 0\n",
    "    else:\n",
    "        beta = 0\n",
    "        vol_spy_curr = 0\n",
    "        vol_spy_prev = 0\n",
    "    return vol_stock + beta*abs(vol_spy_curr-vol_spy_prev)\n",
    "    "
   ]
  },
  {
   "cell_type": "markdown",
   "metadata": {},
   "source": [
    "# EWMA Volatility Calculator"
   ]
  },
  {
   "cell_type": "markdown",
   "metadata": {},
   "source": [
    "Estimates volatility using EWMA with a 10 sec window. EWM is a function of pandas library."
   ]
  },
  {
   "cell_type": "code",
   "execution_count": 14,
   "metadata": {},
   "outputs": [],
   "source": [
    "def ewma(data, stockId, time_id):\n",
    "    stock = data.loc[data['stock_id'] == stockId]\n",
    "    stock = stock.loc[stock['time_id'] == time_id]\n",
    "\n",
    "    return stock['log_return'].ewm(span=10).std() * np.sqrt(len(stock['log_return']))"
   ]
  },
  {
   "cell_type": "markdown",
   "metadata": {},
   "source": [
    "# Runner code/ Main starts below here"
   ]
  },
  {
   "cell_type": "markdown",
   "metadata": {},
   "source": [
    "# R2 and RMSPE score calculator"
   ]
  },
  {
   "cell_type": "code",
   "execution_count": 18,
   "metadata": {},
   "outputs": [],
   "source": [
    "from sklearn.metrics import r2_score\n",
    "def rmspe(y_true, y_pred):\n",
    "    return  (np.sqrt(np.mean(np.square((y_true - y_pred) / y_true))))"
   ]
  },
  {
   "cell_type": "markdown",
   "metadata": {},
   "source": [
    "# Local beta volatility calculator"
   ]
  },
  {
   "cell_type": "markdown",
   "metadata": {},
   "source": [
    "Returns all performance metrics for a given stock!"
   ]
  },
  {
   "cell_type": "code",
   "execution_count": 2,
   "metadata": {},
   "outputs": [],
   "source": [
    "def calculate_performance(stock_id, data, train):\n",
    "    modelled_vol = []\n",
    "    y_true = train.loc[train['stock_id'] == stock_id]\n",
    "    beta_dir_error_list = []\n",
    "    y_true_indexed = y_true.set_index('time_id')\n",
    "    spy_vol_prev = 0\n",
    "    for tID in y_true['time_id']:\n",
    "        beta = betaCalc(data, stock_id, tID, True)\n",
    "        if beta > 0:\n",
    "            beta = (-1) * beta\n",
    "        spy_vol = ewma(data, 50200, tID).mean()\n",
    "        base_vol = ewma(data, stock_id, tID).mean()\n",
    "        beta_factor = beta * abs(spy_vol - spy_vol_prev)\n",
    "        spy_vol_prev = spy_vol\n",
    "        generated_vol = base_vol + beta_factor\n",
    "        modelled_vol.append(generated_vol)\n",
    "        if ((generated_vol - base_vol >= 0) != (y_true_indexed.at[tID, 'target'] - base_vol >= 0)):\n",
    "            beta_dir_error_list.append(tID)\n",
    "            \n",
    "    r2_score_val = round(r2_score(y_true=y_true['target'], y_pred=modelled_vol), 3)\n",
    "    rmspe_val = round(rmspe(y_true=y_true['target'], y_pred=modelled_vol), 3)\n",
    "    beta_dir_effectiveness = round(len(beta_dir_error_list) / len(y_true), 3)\n",
    "    \n",
    "    return r2_score_val, rmspe_val, beta_dir_effectiveness, modelled_vol, beta_dir_error_list"
   ]
  },
  {
   "cell_type": "markdown",
   "metadata": {},
   "source": [
    "# Data gen for metric testing"
   ]
  },
  {
   "cell_type": "markdown",
   "metadata": {},
   "source": [
    "# Tesla"
   ]
  },
  {
   "cell_type": "code",
   "execution_count": 21,
   "metadata": {},
   "outputs": [],
   "source": [
    "stockId = 8382\n",
    "Tesla_R2, Tesla_RMSPE, Tesla_beta_eff, Tesla_modelled_vol, Tesla_beta_list = calculate_performance(stockId, data, train)"
   ]
  },
  {
   "cell_type": "code",
   "execution_count": 22,
   "metadata": {},
   "outputs": [
    {
     "name": "stdout",
     "output_type": "stream",
     "text": [
      "0.843 0.147 0.449\n"
     ]
    }
   ],
   "source": [
    "print(Tesla_R2, Tesla_RMSPE, Tesla_beta_eff)"
   ]
  },
  {
   "cell_type": "markdown",
   "metadata": {},
   "source": [
    "\n",
    "# Apple"
   ]
  },
  {
   "cell_type": "code",
   "execution_count": 23,
   "metadata": {},
   "outputs": [],
   "source": [
    "stockId = 9323\n",
    "Apple_R2, Apple_RMSPE, Apple_beta_eff, Apple_modelled_vol, Apple_beta_list = calculate_performance(stockId, data, train)"
   ]
  },
  {
   "cell_type": "code",
   "execution_count": 24,
   "metadata": {},
   "outputs": [
    {
     "name": "stdout",
     "output_type": "stream",
     "text": [
      "0.653 0.229 0.513\n"
     ]
    }
   ],
   "source": [
    "print(Apple_R2, Apple_RMSPE, Apple_beta_eff)"
   ]
  },
  {
   "cell_type": "markdown",
   "metadata": {},
   "source": [
    "# Amazon"
   ]
  },
  {
   "cell_type": "code",
   "execution_count": 25,
   "metadata": {},
   "outputs": [],
   "source": [
    "stockId = 22675\n",
    "Amazon_R2, Amazon_RMSPE, Amazon_beta_eff, Amazon_modelled_vol, Amazon_beta_list = calculate_performance(stockId, data, train)"
   ]
  },
  {
   "cell_type": "code",
   "execution_count": 26,
   "metadata": {},
   "outputs": [
    {
     "name": "stdout",
     "output_type": "stream",
     "text": [
      "0.773 0.156 0.495\n"
     ]
    }
   ],
   "source": [
    "print(Amazon_R2, Amazon_RMSPE, Amazon_beta_eff)"
   ]
  },
  {
   "cell_type": "markdown",
   "metadata": {},
   "source": [
    "# Facebook"
   ]
  },
  {
   "cell_type": "code",
   "execution_count": 27,
   "metadata": {},
   "outputs": [],
   "source": [
    "stockId = 22951\n",
    "Facebook_R2, Facebook_RMSPE, Facebook_beta_eff, Facebook_modelled_vol, Facebook_beta_list = calculate_performance(stockId, data, train)"
   ]
  },
  {
   "cell_type": "code",
   "execution_count": 28,
   "metadata": {},
   "outputs": [
    {
     "name": "stdout",
     "output_type": "stream",
     "text": [
      "0.693 0.187 0.497\n"
     ]
    }
   ],
   "source": [
    "print(Facebook_R2, Facebook_RMSPE, Facebook_beta_eff)"
   ]
  },
  {
   "cell_type": "markdown",
   "metadata": {},
   "source": [
    "# Google"
   ]
  },
  {
   "cell_type": "code",
   "execution_count": 29,
   "metadata": {},
   "outputs": [],
   "source": [
    "stockId = 22729\n",
    "Google_R2, Google_RMSPE, Google_beta_eff, Google_modelled_vol, Google_beta_list = calculate_performance(stockId, data, train)"
   ]
  },
  {
   "cell_type": "code",
   "execution_count": 30,
   "metadata": {},
   "outputs": [
    {
     "name": "stdout",
     "output_type": "stream",
     "text": [
      "0.757 0.196 0.549\n"
     ]
    }
   ],
   "source": [
    "print(Google_R2, Google_RMSPE, Google_beta_eff)"
   ]
  },
  {
   "cell_type": "markdown",
   "metadata": {},
   "source": [
    "# Goldman Sachs"
   ]
  },
  {
   "cell_type": "code",
   "execution_count": 31,
   "metadata": {},
   "outputs": [],
   "source": [
    "stockId = 48219\n",
    "Goldman_R2, Goldman_RMSPE, Goldman_beta_eff, Goldman_modelled_vol, Goldman_beta_list = calculate_performance(stockId, data, train)"
   ]
  },
  {
   "cell_type": "code",
   "execution_count": 32,
   "metadata": {},
   "outputs": [
    {
     "name": "stdout",
     "output_type": "stream",
     "text": [
      "0.701 0.196 0.514\n"
     ]
    }
   ],
   "source": [
    "print(Goldman_R2, Goldman_RMSPE, Goldman_beta_eff)"
   ]
  },
  {
   "cell_type": "markdown",
   "metadata": {},
   "source": [
    "# JP Morgan"
   ]
  },
  {
   "cell_type": "code",
   "execution_count": 33,
   "metadata": {},
   "outputs": [],
   "source": [
    "stockId = 22753\n",
    "jpm_R2, jpm_RMSPE, jpm_beta_eff, jpm_modelled_vol, jpm_beta_list = calculate_performance(stockId, data, train)"
   ]
  },
  {
   "cell_type": "code",
   "execution_count": 34,
   "metadata": {},
   "outputs": [
    {
     "name": "stdout",
     "output_type": "stream",
     "text": [
      "0.6 0.2 0.46\n"
     ]
    }
   ],
   "source": [
    "print(jpm_R2, jpm_RMSPE, jpm_beta_eff)"
   ]
  },
  {
   "cell_type": "markdown",
   "metadata": {},
   "source": [
    "# Netflix"
   ]
  },
  {
   "cell_type": "code",
   "execution_count": 35,
   "metadata": {},
   "outputs": [],
   "source": [
    "stockId = 22771\n",
    "netflix_R2, netflix_RMSPE, netflix_beta_eff, Netflix_modelled_vol, Netflix_beta_list = calculate_performance(stockId, data, train)"
   ]
  },
  {
   "cell_type": "code",
   "execution_count": 36,
   "metadata": {},
   "outputs": [
    {
     "name": "stdout",
     "output_type": "stream",
     "text": [
      "0.732 0.173 0.483\n"
     ]
    }
   ],
   "source": [
    "print(netflix_R2, netflix_RMSPE, netflix_beta_eff)"
   ]
  },
  {
   "cell_type": "markdown",
   "metadata": {},
   "source": [
    "# Invesco QQQ"
   ]
  },
  {
   "cell_type": "code",
   "execution_count": 37,
   "metadata": {},
   "outputs": [],
   "source": [
    "stockId = 104919\n",
    "invesco_R2, invesco_RMSPE, invesco_beta_eff, Invesco_modelled_vol, Invesco_beta_list = calculate_performance(stockId, data, train)"
   ]
  },
  {
   "cell_type": "code",
   "execution_count": 38,
   "metadata": {},
   "outputs": [
    {
     "name": "stdout",
     "output_type": "stream",
     "text": [
      "0.662 0.252 0.475\n"
     ]
    }
   ],
   "source": [
    "print(invesco_R2, invesco_RMSPE, invesco_beta_eff)"
   ]
  },
  {
   "cell_type": "markdown",
   "metadata": {},
   "source": [
    "# Overall R2 and RMSPE without Invesco and SPY with local beta"
   ]
  },
  {
   "cell_type": "code",
   "execution_count": 40,
   "metadata": {},
   "outputs": [
    {
     "name": "stdout",
     "output_type": "stream",
     "text": [
      "0.828 0.187\n"
     ]
    }
   ],
   "source": [
    "allR2_new = []\n",
    "df = pd.read_csv(\"train.csv\")\n",
    "df = df[~df['stock_id'].isin([50200, 104919])]\n",
    "for i in range (1152):\n",
    "    allR2_new.append(Tesla_modelled_vol[i])\n",
    "    allR2_new.append(Apple_modelled_vol[i])\n",
    "    allR2_new.append(Amazon_modelled_vol[i])\n",
    "    allR2_new.append(Google_modelled_vol[i])\n",
    "    allR2_new.append(jpm_modelled_vol[i])\n",
    "    allR2_new.append(Netflix_modelled_vol[i])\n",
    "    allR2_new.append(Facebook_modelled_vol[i])\n",
    "    allR2_new.append(Goldman_modelled_vol[i])\n",
    "r2_score_val_new = round(r2_score(y_true=df['target'], y_pred=allR2_new), 3)\n",
    "rmspe_val_new = round(rmspe(y_true=df['target'], y_pred=allR2_new), 3)\n",
    "print(r2_score_val_new, rmspe_val_new)"
   ]
  },
  {
   "cell_type": "markdown",
   "metadata": {},
   "source": [
    "# Global Beta volatility Calculator\n"
   ]
  },
  {
   "cell_type": "markdown",
   "metadata": {},
   "source": [
    "Gloabl Beta metric testing:"
   ]
  },
  {
   "cell_type": "code",
   "execution_count": 62,
   "metadata": {},
   "outputs": [],
   "source": [
    "def calculate_performance_new(stock_id, data, train):\n",
    "    modelled_vol = []\n",
    "    y_true = train.loc[train['stock_id'] == stock_id]\n",
    "    spy_vol_prev = 0\n",
    "    beta_dir_error_list = []\n",
    "    y_true_indexed = y_true.set_index('time_id')\n",
    "    beta = betaCalc(data, stock_id, 12, False)\n",
    "    if beta > 0:\n",
    "        beta = (-1) * beta\n",
    "    spy_vol_prev = 0\n",
    "    for tID in y_true['time_id']:\n",
    "        spy_vol = ewma(data, 50200, tID).mean()\n",
    "        base_vol = ewma(data, stock_id, tID).mean()\n",
    "        beta_factor = beta * abs(spy_vol - spy_vol_prev)\n",
    "        spy_vol_prev = spy_vol\n",
    "        generated_vol = base_vol + beta_factor\n",
    "        modelled_vol.append(generated_vol)\n",
    "        if ((generated_vol - base_vol >= 0) != (y_true_indexed.at[tID, 'target'] - base_vol >= 0)):\n",
    "            beta_dir_error_list.append(tID)\n",
    "\n",
    "    r2_score_val = round(r2_score(y_true=y_true['target'], y_pred=modelled_vol), 3)\n",
    "    rmspe_val = round(rmspe(y_true=y_true['target'], y_pred=modelled_vol), 3)\n",
    "    beta_dir_effectiveness = round(len(beta_dir_error_list) / len(y_true), 3)\n",
    "    \n",
    "    return r2_score_val, rmspe_val, beta_dir_effectiveness, modelled_vol, beta_dir_error_list"
   ]
  },
  {
   "cell_type": "code",
   "execution_count": 63,
   "metadata": {},
   "outputs": [
    {
     "data": {
      "text/html": [
       "<div>\n",
       "<style scoped>\n",
       "    .dataframe tbody tr th:only-of-type {\n",
       "        vertical-align: middle;\n",
       "    }\n",
       "\n",
       "    .dataframe tbody tr th {\n",
       "        vertical-align: top;\n",
       "    }\n",
       "\n",
       "    .dataframe thead th {\n",
       "        text-align: right;\n",
       "    }\n",
       "</style>\n",
       "<table border=\"1\" class=\"dataframe\">\n",
       "  <thead>\n",
       "    <tr style=\"text-align: right;\">\n",
       "      <th></th>\n",
       "      <th>stock_id</th>\n",
       "      <th>time_id</th>\n",
       "      <th>seconds_in_bucket</th>\n",
       "      <th>bid_price1</th>\n",
       "      <th>ask_price1</th>\n",
       "      <th>bid_price2</th>\n",
       "      <th>ask_price2</th>\n",
       "      <th>bid_size1</th>\n",
       "      <th>ask_size1</th>\n",
       "      <th>bid_size2</th>\n",
       "      <th>ask_size2</th>\n",
       "      <th>ts</th>\n",
       "      <th>wap</th>\n",
       "      <th>log_return</th>\n",
       "    </tr>\n",
       "  </thead>\n",
       "  <tbody>\n",
       "    <tr>\n",
       "      <th>1</th>\n",
       "      <td>8382</td>\n",
       "      <td>12</td>\n",
       "      <td>2.0</td>\n",
       "      <td>722.18</td>\n",
       "      <td>722.88</td>\n",
       "      <td>722.17</td>\n",
       "      <td>722.98</td>\n",
       "      <td>25</td>\n",
       "      <td>10</td>\n",
       "      <td>66</td>\n",
       "      <td>100</td>\n",
       "      <td>21602.0</td>\n",
       "      <td>722.680000</td>\n",
       "      <td>0.000197</td>\n",
       "    </tr>\n",
       "    <tr>\n",
       "      <th>2</th>\n",
       "      <td>8382</td>\n",
       "      <td>12</td>\n",
       "      <td>3.0</td>\n",
       "      <td>722.33</td>\n",
       "      <td>722.65</td>\n",
       "      <td>722.27</td>\n",
       "      <td>722.74</td>\n",
       "      <td>25</td>\n",
       "      <td>120</td>\n",
       "      <td>200</td>\n",
       "      <td>25</td>\n",
       "      <td>21603.0</td>\n",
       "      <td>722.385172</td>\n",
       "      <td>-0.000408</td>\n",
       "    </tr>\n",
       "    <tr>\n",
       "      <th>3</th>\n",
       "      <td>8382</td>\n",
       "      <td>12</td>\n",
       "      <td>4.0</td>\n",
       "      <td>722.68</td>\n",
       "      <td>722.98</td>\n",
       "      <td>722.48</td>\n",
       "      <td>723.00</td>\n",
       "      <td>25</td>\n",
       "      <td>100</td>\n",
       "      <td>25</td>\n",
       "      <td>1</td>\n",
       "      <td>21604.0</td>\n",
       "      <td>722.740000</td>\n",
       "      <td>0.000491</td>\n",
       "    </tr>\n",
       "    <tr>\n",
       "      <th>4</th>\n",
       "      <td>8382</td>\n",
       "      <td>12</td>\n",
       "      <td>5.0</td>\n",
       "      <td>722.52</td>\n",
       "      <td>722.96</td>\n",
       "      <td>722.42</td>\n",
       "      <td>722.97</td>\n",
       "      <td>125</td>\n",
       "      <td>20</td>\n",
       "      <td>3</td>\n",
       "      <td>110</td>\n",
       "      <td>21605.0</td>\n",
       "      <td>722.899310</td>\n",
       "      <td>0.000220</td>\n",
       "    </tr>\n",
       "    <tr>\n",
       "      <th>5</th>\n",
       "      <td>8382</td>\n",
       "      <td>12</td>\n",
       "      <td>6.0</td>\n",
       "      <td>722.36</td>\n",
       "      <td>722.69</td>\n",
       "      <td>722.35</td>\n",
       "      <td>722.70</td>\n",
       "      <td>2</td>\n",
       "      <td>20</td>\n",
       "      <td>25</td>\n",
       "      <td>100</td>\n",
       "      <td>21606.0</td>\n",
       "      <td>722.390000</td>\n",
       "      <td>-0.000705</td>\n",
       "    </tr>\n",
       "  </tbody>\n",
       "</table>\n",
       "</div>"
      ],
      "text/plain": [
       "   stock_id  time_id  seconds_in_bucket  bid_price1  ask_price1  bid_price2   \n",
       "1      8382       12                2.0      722.18      722.88      722.17  \\\n",
       "2      8382       12                3.0      722.33      722.65      722.27   \n",
       "3      8382       12                4.0      722.68      722.98      722.48   \n",
       "4      8382       12                5.0      722.52      722.96      722.42   \n",
       "5      8382       12                6.0      722.36      722.69      722.35   \n",
       "\n",
       "   ask_price2  bid_size1  ask_size1  bid_size2  ask_size2       ts   \n",
       "1      722.98         25         10         66        100  21602.0  \\\n",
       "2      722.74         25        120        200         25  21603.0   \n",
       "3      723.00         25        100         25          1  21604.0   \n",
       "4      722.97        125         20          3        110  21605.0   \n",
       "5      722.70          2         20         25        100  21606.0   \n",
       "\n",
       "          wap  log_return  \n",
       "1  722.680000    0.000197  \n",
       "2  722.385172   -0.000408  \n",
       "3  722.740000    0.000491  \n",
       "4  722.899310    0.000220  \n",
       "5  722.390000   -0.000705  "
      ]
     },
     "execution_count": 63,
     "metadata": {},
     "output_type": "execute_result"
    }
   ],
   "source": [
    "book = pd.read_parquet('order_book_feature.parquet')\n",
    "book['ts'] = book['time_id'] * 1800 + book['seconds_in_bucket']\n",
    "book['wap'] = (book['bid_price1'] * book['ask_size1'] +\n",
    "                                book['ask_price1'] * book['bid_size1']) / (\n",
    "                                       book['bid_size1']+ book['ask_size1'])\n",
    "data = book.copy()\n",
    "book.set_index('ts', inplace=True)\n",
    "def log_return(list_stock_prices):\n",
    "    return np.log(list_stock_prices).diff() \n",
    "\n",
    "data['log_return'] = data.groupby(['time_id','stock_id'], group_keys=False)['wap'].apply(log_return)\n",
    "data = data[~data['log_return'].isnull()]\n",
    "data.head()"
   ]
  },
  {
   "cell_type": "markdown",
   "metadata": {},
   "source": [
    "# Tesla"
   ]
  },
  {
   "cell_type": "code",
   "execution_count": 64,
   "metadata": {},
   "outputs": [
    {
     "name": "stdout",
     "output_type": "stream",
     "text": [
      "0.843 0.147 0.449\n"
     ]
    }
   ],
   "source": [
    "stockId = 8382\n",
    "Tesla_R2_new, Tesla_RMSPE_new, Tesla_beta_eff_new, Tesla_modelled_vol_new, Tesla_beta_list_new = calculate_performance_new(stockId, data, train)\n",
    "print(Tesla_R2, Tesla_RMSPE, Tesla_beta_eff)"
   ]
  },
  {
   "cell_type": "markdown",
   "metadata": {},
   "source": [
    "# Apple"
   ]
  },
  {
   "cell_type": "code",
   "execution_count": 65,
   "metadata": {},
   "outputs": [
    {
     "name": "stdout",
     "output_type": "stream",
     "text": [
      "0.669 0.227 0.513\n"
     ]
    }
   ],
   "source": [
    "stockId = 9323\n",
    "Apple_R2_new, Apple_RMSPE_new, Apple_beta_eff_new, Apple_modelled_vol_new, Apple_beta_list_new = calculate_performance_new(stockId, data, train)\n",
    "print(Apple_R2_new, Apple_RMSPE_new, Apple_beta_eff_new)"
   ]
  },
  {
   "cell_type": "markdown",
   "metadata": {},
   "source": [
    "# Amazon"
   ]
  },
  {
   "cell_type": "code",
   "execution_count": 66,
   "metadata": {},
   "outputs": [
    {
     "name": "stdout",
     "output_type": "stream",
     "text": [
      "0.8 0.15 0.495\n"
     ]
    }
   ],
   "source": [
    "stockId = 22675\n",
    "Amazon_R2_new, Amazon_RMSPE_new, Amazon_beta_eff_new, Amazon_modelled_vol_new, Amazon_beta_list_new = calculate_performance_new(stockId, data, train)\n",
    "print(Amazon_R2_new, Amazon_RMSPE_new, Amazon_beta_eff_new)"
   ]
  },
  {
   "cell_type": "markdown",
   "metadata": {},
   "source": [
    "# Facebook"
   ]
  },
  {
   "cell_type": "code",
   "execution_count": 67,
   "metadata": {},
   "outputs": [
    {
     "name": "stdout",
     "output_type": "stream",
     "text": [
      "0.668 0.196 0.497\n"
     ]
    }
   ],
   "source": [
    "stockId = 22951\n",
    "Facebook_R2_new, Facebook_RMSPE_new, Facebook_beta_eff_new, Facebook_modelled_vol_new, Facebook_beta_list_new = calculate_performance_new(stockId, data, train)\n",
    "print(Facebook_R2_new, Facebook_RMSPE_new, Facebook_beta_eff_new)"
   ]
  },
  {
   "cell_type": "markdown",
   "metadata": {},
   "source": [
    "# Google"
   ]
  },
  {
   "cell_type": "code",
   "execution_count": 68,
   "metadata": {},
   "outputs": [
    {
     "name": "stdout",
     "output_type": "stream",
     "text": [
      "0.745 0.201 0.549\n"
     ]
    }
   ],
   "source": [
    "stockId = 22729\n",
    "Google_R2_new, Google_RMSPE_new, Google_beta_eff_new, Google_modelled_vol_new, Google_beta_list_new = calculate_performance_new(stockId, data, train)\n",
    "print(Google_R2_new, Google_RMSPE_new, Google_beta_eff_new)"
   ]
  },
  {
   "cell_type": "markdown",
   "metadata": {},
   "source": [
    "# Goldman"
   ]
  },
  {
   "cell_type": "code",
   "execution_count": 69,
   "metadata": {},
   "outputs": [
    {
     "name": "stdout",
     "output_type": "stream",
     "text": [
      "0.705 0.197 0.514\n"
     ]
    }
   ],
   "source": [
    "stockId = 48219\n",
    "Goldman_R2_new, Goldman_RMSPE_new, Goldman_beta_eff_new, Goldman_modelled_vol_new, Goldman_beta_list_new = calculate_performance_new(stockId, data, train)\n",
    "print(Goldman_R2_new, Goldman_RMSPE_new, Goldman_beta_eff_new)"
   ]
  },
  {
   "cell_type": "markdown",
   "metadata": {},
   "source": [
    "# JP Morgan"
   ]
  },
  {
   "cell_type": "code",
   "execution_count": 70,
   "metadata": {},
   "outputs": [
    {
     "name": "stdout",
     "output_type": "stream",
     "text": [
      "0.625 0.198 0.46\n"
     ]
    }
   ],
   "source": [
    "stockId = 22753\n",
    "jpm_R2_new, jpm_RMSPE_new, jpm_beta_eff_new, jpm_modelled_vol_new, jpm_beta_list_new = calculate_performance_new(stockId, data, train)\n",
    "print(jpm_R2_new, jpm_RMSPE_new, jpm_beta_eff_new)"
   ]
  },
  {
   "cell_type": "markdown",
   "metadata": {},
   "source": [
    "# Netflix"
   ]
  },
  {
   "cell_type": "code",
   "execution_count": 71,
   "metadata": {},
   "outputs": [
    {
     "name": "stdout",
     "output_type": "stream",
     "text": [
      "0.747 0.169 0.483\n"
     ]
    }
   ],
   "source": [
    "stockId = 22771\n",
    "netflix_R2_new, netflix_RMSPE_new, netflix_beta_eff_new, Netflix_modelled_vol_new, Netflix_beta_list_new = calculate_performance_new(stockId, data, train)\n",
    "print(netflix_R2_new, netflix_RMSPE_new, netflix_beta_eff_new)"
   ]
  },
  {
   "cell_type": "markdown",
   "metadata": {},
   "source": [
    "# Invesco"
   ]
  },
  {
   "cell_type": "code",
   "execution_count": 72,
   "metadata": {},
   "outputs": [
    {
     "name": "stdout",
     "output_type": "stream",
     "text": [
      "0.662 0.252 0.475\n"
     ]
    }
   ],
   "source": [
    "stockId = 104919\n",
    "invesco_R2_new, invesco_RMSPE_new, invesco_beta_eff_new, invesco_modelled_vol_new, invesco_beta_list_new = calculate_performance(stockId, data, train)\n",
    "print(invesco_R2_new, invesco_RMSPE_new, invesco_beta_eff_new)"
   ]
  },
  {
   "cell_type": "markdown",
   "metadata": {},
   "source": [
    "# Overall R2 score of global beta model without SPY and Invesco"
   ]
  },
  {
   "cell_type": "code",
   "execution_count": 73,
   "metadata": {},
   "outputs": [
    {
     "name": "stdout",
     "output_type": "stream",
     "text": [
      "0.828 0.187\n"
     ]
    }
   ],
   "source": [
    "allR2_new1 = []\n",
    "df = pd.read_csv(\"train.csv\")\n",
    "df = df[~df['stock_id'].isin([50200, 104919])]\n",
    "for i in range (1152):\n",
    "    allR2_new1.append(Tesla_modelled_vol_new[i])\n",
    "    allR2_new1.append(Apple_modelled_vol_new[i])\n",
    "    allR2_new1.append(Amazon_modelled_vol_new[i])\n",
    "    allR2_new1.append(Google_modelled_vol_new[i])\n",
    "    allR2_new1.append(jpm_modelled_vol_new[i])\n",
    "    allR2_new1.append(Netflix_modelled_vol_new[i])\n",
    "    allR2_new1.append(Facebook_modelled_vol_new[i])\n",
    "    allR2_new1.append(Goldman_modelled_vol_new[i])\n",
    "r2_score_val_new1 = round(r2_score(y_true=df['target'], y_pred=allR2_new1), 3)\n",
    "rmspe_val_new1 = round(rmspe(y_true=df['target'], y_pred=allR2_new1), 3)\n",
    "print(r2_score_val_new1, rmspe_val_new1)"
   ]
  },
  {
   "cell_type": "markdown",
   "metadata": {},
   "source": [
    "# Beta Error graph"
   ]
  },
  {
   "cell_type": "code",
   "execution_count": 137,
   "metadata": {},
   "outputs": [
    {
     "name": "stdout",
     "output_type": "stream",
     "text": [
      "{'15:00:00': 973, '16:00:00': 1516, '14:00:00': 995, '12:00:00': 523, '13:00:00': 788, '11:00:00': 313}\n",
      "[6.127642913077525, 10.23884103367267, 15.426781519185592, 19.04855129209084, 19.47924823805795, 29.678935003915424]\n"
     ]
    },
    {
     "data": {
      "image/png": "[encoded data removed]",
      "text/plain": [
       "<Figure size 640x480 with 1 Axes>"
      ]
     },
     "metadata": {},
     "output_type": "display_data"
    }
   ],
   "source": [
    "import matplotlib.pyplot as plt\n",
    "\n",
    "df = pd.read_csv('time_id_reference.csv')\n",
    "\n",
    "All_beta_list = Tesla_beta_list + Invesco_beta_list + Netflix_beta_list + jpm_beta_list + Goldman_beta_list + Google_beta_list + Facebook_beta_list + Amazon_beta_list + Apple_beta_list\n",
    "\n",
    "dict_time = {}\n",
    "for time_id in All_beta_list:\n",
    "    time_row = df[df['time_id'] == time_id]\n",
    "    time = time_row.iloc[0]['time']\n",
    "    if time in dict_time.keys():\n",
    "        dict_time[time] += 1\n",
    "    else:\n",
    "        dict_time[time] = 1\n",
    "\n",
    "print(dict_time)\n",
    "\n",
    "# Sort the keys based on their values\n",
    "keys = sorted(dict_time.keys(), key=lambda x: dict_time[x])\n",
    "values = [dict_time[key] for key in keys]\n",
    "\n",
    "# Calculate the total count\n",
    "total_count = sum(values)\n",
    "\n",
    "# Calculate the percentage for each time count\n",
    "percentages = [(count / total_count) * 100 for count in values]\n",
    "print(percentages)\n",
    "\n",
    "# Plot the percentages for dict_time\n",
    "plt.bar(keys, percentages)\n",
    "plt.xlabel('Time')\n",
    "plt.ylabel('Error Percentage')\n",
    "plt.title('Beta Error')\n",
    "\n",
    "# Add values on top of the bars\n",
    "for i, v in enumerate(percentages):\n",
    "    plt.text(keys[i], v + 0.5, f'{v:.1f}%', ha='center')\n",
    "    \n",
    "plt.show()\n"
   ]
  },
  {
   "cell_type": "markdown",
   "metadata": {},
   "source": [
    "# SPY Performance metrics:"
   ]
  },
  {
   "cell_type": "code",
   "execution_count": 90,
   "metadata": {},
   "outputs": [],
   "source": [
    "def calculate_performance_SPY(data, train, stock_id):\n",
    "    modelled_vol = []\n",
    "    y_true = train.loc[train['stock_id'] == stock_id]\n",
    "    spy_vol_prev = 0\n",
    "    beta_dir_error_list = []\n",
    "    y_true_indexed = y_true.set_index('time_id')\n",
    "    for tID in y_true['time_id']:\n",
    "        base_vol = ewma(data, stock_id, tID).mean()\n",
    "        beta_factor = 0\n",
    "        generated_vol = base_vol + beta_factor\n",
    "        modelled_vol.append(generated_vol)\n",
    "        if ((generated_vol - base_vol >= 0) != (y_true_indexed.at[tID, 'target'] - base_vol >= 0)):\n",
    "            beta_dir_error_list.append(tID)\n",
    "            \n",
    "    r2_score_val = round(r2_score(y_true=y_true['target'], y_pred=modelled_vol), 3)\n",
    "    rmspe_val = round(rmspe(y_true=y_true['target'], y_pred=modelled_vol), 3)\n",
    "    beta_dir_effectiveness = round(len(beta_dir_error_list) / len(y_true), 3)\n",
    "    \n",
    "    return r2_score_val, rmspe_val, beta_dir_effectiveness, modelled_vol, beta_dir_error_list"
   ]
  },
  {
   "cell_type": "code",
   "execution_count": 91,
   "metadata": {},
   "outputs": [
    {
     "name": "stdout",
     "output_type": "stream",
     "text": [
      "0.809 0.219 0.45\n"
     ]
    }
   ],
   "source": [
    "stockId = 50200\n",
    "spy_R2_new, spy_RMSPE_new, spy_beta_eff_new, spy_modelled_vol_new, spy_beta_error_list = calculate_performance_SPY(data, train, stockId)\n",
    "print(spy_R2_new, spy_RMSPE_new, spy_beta_eff_new)"
   ]
  },
  {
   "cell_type": "markdown",
   "metadata": {},
   "source": [
    "# R2 Scores for Companies with Local Beta graph"
   ]
  },
  {
   "cell_type": "code",
   "execution_count": 100,
   "metadata": {},
   "outputs": [
    {
     "data": {
      "image/png": "[encoded data removed]",
      "text/plain": [
       "<Figure size 1200x800 with 1 Axes>"
      ]
     },
     "metadata": {},
     "output_type": "display_data"
    }
   ],
   "source": [
    "import matplotlib.pyplot as plt\n",
    "\n",
    "Tesla_R2_scores = [Tesla_R2, 0.802]\n",
    "Apple_R2_scores = [Apple_R2, 0.637]\n",
    "Amazon_R2_scores = [Amazon_R2, 0.757]\n",
    "Facebook_R2_scores = [Facebook_R2, 0.679]\n",
    "Google_R2_scores = [Google_R2, 0.752]\n",
    "Goldman_R2_scores = [Goldman_R2, 0.587]\n",
    "jpm_R2_scores = [jpm_R2, 0.607]\n",
    "Netflix_R2_scores = [netflix_R2, 0.679]\n",
    "Invesco_R2_scores = [invesco_R2, 0.792]\n",
    "spy_R2_scores = [0.809, 0.797]\n",
    "\n",
    "# Data for R2 scores\n",
    "companies = ['Tesla', 'Apple', 'Amazon', 'Facebook', 'Google', 'Goldman', 'JPM', 'Netflix', 'Invesco', 'SPY Index']\n",
    "R2_scores = [Tesla_R2_scores, Apple_R2_scores, Amazon_R2_scores, Facebook_R2_scores, Google_R2_scores, Goldman_R2_scores, jpm_R2_scores, Netflix_R2_scores, Invesco_R2_scores, spy_R2_scores]\n",
    "\n",
    "# Extracting R2 scores and reference values\n",
    "R2 = [x[0] for x in R2_scores]\n",
    "ref = [x[1] for x in R2_scores]\n",
    "\n",
    "# Setting up the figure\n",
    "fig, ax = plt.subplots(figsize=(12, 8))\n",
    "index = range(len(companies))\n",
    "bar_width = 0.4  # increased bar width\n",
    "opacity = 0.8\n",
    "\n",
    "# Plotting R2 scores\n",
    "rects1 = plt.bar(index, R2, bar_width,\n",
    "                 alpha=opacity,\n",
    "                 color='b',\n",
    "                 label='Our model')\n",
    "\n",
    "# Plotting reference values\n",
    "rects2 = plt.bar([i + bar_width for i in index], ref, bar_width,\n",
    "                 alpha=opacity,\n",
    "                 color='r',\n",
    "                 label='Naive')\n",
    "\n",
    "# Adding labels and legends\n",
    "plt.xlabel('Companies')\n",
    "plt.ylabel('R2 Score')\n",
    "plt.title('R2 Scores for Companies with Local Beta')\n",
    "plt.xticks([i + bar_width/2 for i in index], companies)\n",
    "plt.legend()\n",
    "\n",
    "# Adding values on top of bars\n",
    "for i in index:\n",
    "    plt.text(rects1[i].get_x() + rects1[i].get_width() / 2, rects1[i].get_height() + 0.01, f'{R2[i]:.3f}', ha='center', color='black')\n",
    "\n",
    "for i in index:\n",
    "    plt.text(rects2[i].get_x() + rects2[i].get_width() / 2, rects2[i].get_height() + 0.01, f'{ref[i]:.3f}', ha='center', color='black')\n",
    "    \n",
    "plt.legend(loc='upper center', bbox_to_anchor=(0.5, 1.15), fancybox=True, shadow=True)\n",
    "\n",
    "# Displaying the graph\n",
    "plt.tight_layout()\n",
    "plt.show()\n"
   ]
  },
  {
   "cell_type": "markdown",
   "metadata": {},
   "source": [
    " # RMSPE Scores for Companies with local beta graph"
   ]
  },
  {
   "cell_type": "code",
   "execution_count": 107,
   "metadata": {},
   "outputs": [
    {
     "data": {
      "image/png": "[encoded data removed]",
      "text/plain": [
       "<Figure size 1200x800 with 1 Axes>"
      ]
     },
     "metadata": {},
     "output_type": "display_data"
    }
   ],
   "source": [
    "import matplotlib.pyplot as plt\n",
    "\n",
    "# Your data\n",
    "Tesla_RMSPE_scores = [Tesla_RMSPE, 0.176]\n",
    "Apple_RMSPE_scores = [Apple_RMSPE, 0.235]\n",
    "Amazon_RMSPE_scores = [Amazon_RMSPE, 0.168]\n",
    "Facebook_RMSPE_scores = [Facebook_RMSPE, 0.203]\n",
    "Google_RMSPE_scores = [Google_RMSPE, 0.207]\n",
    "Goldman_RMSPE_scores = [Goldman_RMSPE, 0.225]\n",
    "jpm_RMSPE_scores = [jpm_RMSPE, 0.204]\n",
    "Netflix_RMSPE_scores = [netflix_RMSPE, 0.197]\n",
    "Invesco_RMSPE_scores = [invesco_RMSPE, 0.226]\n",
    "spy_RMSPE_scores = [0.187, 0.244]\n",
    "\n",
    "# Data for RMSPE scores\n",
    "companies = ['Tesla', 'Apple', 'Amazon', 'Facebook', 'Google', 'Goldman', 'JPM', 'Netflix', 'Invesco', 'SPY']\n",
    "RMSPE_scores = [Tesla_RMSPE_scores, Apple_RMSPE_scores, Amazon_RMSPE_scores, Facebook_RMSPE_scores, Google_RMSPE_scores, Goldman_RMSPE_scores, jpm_RMSPE_scores, Netflix_RMSPE_scores, Invesco_RMSPE_scores, spy_RMSPE_scores]\n",
    "\n",
    "# Extracting RMSPE scores and reference values\n",
    "RMSPE = [x[0] for x in RMSPE_scores]\n",
    "ref_RMSPE = [x[1] for x in RMSPE_scores]\n",
    "\n",
    "# Setting up the figure\n",
    "fig, ax = plt.subplots(figsize=(12, 8))\n",
    "index = range(len(companies))\n",
    "bar_width = 0.4\n",
    "opacity = 0.8\n",
    "\n",
    "# Plotting RMSPE scores\n",
    "rects1 = plt.bar(index, RMSPE, bar_width,\n",
    "                 alpha=opacity,\n",
    "                 color='b',\n",
    "                 label='Our model')\n",
    "\n",
    "# Plotting reference values\n",
    "rects2 = plt.bar([i + bar_width for i in index], ref_RMSPE, bar_width,\n",
    "                 alpha=opacity,\n",
    "                 color='r',\n",
    "                 label='Naive')\n",
    "\n",
    "# Adding labels and legends\n",
    "plt.xlabel('Companies')\n",
    "plt.ylabel('RMSPE Score')\n",
    "plt.title('RMSPE Scores for Companies with local beta')\n",
    "plt.xticks([i + bar_width/2 for i in index], companies)\n",
    "plt.legend()\n",
    "\n",
    "# Adding values on top of bars\n",
    "for i in index:\n",
    "    plt.text(rects1[i].get_x() + rects1[i].get_width() / 2, rects1[i].get_height() + 0.01, f'{RMSPE[i]:.3f}', ha='center', color='black')\n",
    "\n",
    "for i in index:\n",
    "    plt.text(rects2[i].get_x() + rects2[i].get_width() / 2, rects2[i].get_height() + 0.015, f'{ref_RMSPE[i]:.3f}', ha='center', color='black') # Adjusted the y-coordinate\n",
    "\n",
    "ax.spines['top'].set_position(('axes', 1.01))\n",
    "plt.legend(loc='upper center', bbox_to_anchor=(0.5, 1.15), fancybox=True, shadow=True)\n",
    "    \n",
    "# Displaying the graph\n",
    "plt.tight_layout()\n",
    "plt.show()\n"
   ]
  },
  {
   "cell_type": "markdown",
   "metadata": {},
   "source": [
    "# R2 Scores for Companies with global beta graph"
   ]
  },
  {
   "cell_type": "code",
   "execution_count": 110,
   "metadata": {},
   "outputs": [
    {
     "data": {
      "image/png": "[encoded data removed]",
      "text/plain": [
       "<Figure size 1200x800 with 1 Axes>"
      ]
     },
     "metadata": {},
     "output_type": "display_data"
    }
   ],
   "source": [
    "# Graph without local beta\n",
    "import matplotlib.pyplot as plt\n",
    "\n",
    "Tesla_R2_scores_new = [Tesla_R2_new, 0.802]\n",
    "Apple_R2_scores_new = [Apple_R2_new, 0.637]\n",
    "Amazon_R2_scores_new = [Amazon_R2_new, 0.757]\n",
    "Facebook_R2_scores_new = [Facebook_R2_new, 0.679]\n",
    "Google_R2_scores_new = [Google_R2_new, 0.752]\n",
    "Goldman_R2_scores_new = [Goldman_R2_new, 0.587]\n",
    "jpm_R2_scores_new = [jpm_R2_new, 0.607]\n",
    "Netflix_R2_scores_new = [netflix_R2_new, 0.679]\n",
    "Invesco_R2_scores_new = [invesco_R2_new, 0.792]\n",
    "spy_R2_scores = [0.809, 0.797]\n",
    "\n",
    "# Data for R2 scores\n",
    "companies = ['Tesla', 'Apple', 'Amazon', 'Facebook', 'Google', 'Goldman', 'JPM', 'Netflix', 'Invesco', 'SPY']\n",
    "R2_scores_new = [Tesla_R2_scores_new, Apple_R2_scores_new, Amazon_R2_scores_new, Facebook_R2_scores_new, Google_R2_scores_new, Goldman_R2_scores_new, jpm_R2_scores_new, Netflix_R2_scores_new, Invesco_R2_scores_new, spy_R2_scores]\n",
    "\n",
    "# Extracting R2 scores and reference values\n",
    "R2_new = [x[0] for x in R2_scores_new]\n",
    "ref_new = [x[1] for x in R2_scores_new]\n",
    "\n",
    "# Setting up the figure\n",
    "fig, ax = plt.subplots(figsize=(12, 8))\n",
    "index = range(len(companies))\n",
    "bar_width = 0.4\n",
    "opacity = 0.8\n",
    "\n",
    "# Plotting R2 scores\n",
    "rects1 = plt.bar(index, R2_new, bar_width,\n",
    "                 alpha=opacity,\n",
    "                 color='b',\n",
    "                 label='Our model')\n",
    "\n",
    "# Plotting reference values\n",
    "rects2 = plt.bar([i + bar_width for i in index], ref_new, bar_width,\n",
    "                 alpha=opacity,\n",
    "                 color='r',\n",
    "                 label='Naive')\n",
    "\n",
    "# Adding labels and legends\n",
    "plt.xlabel('Companies')\n",
    "plt.ylabel('R2 Score')\n",
    "plt.title('R2 Scores for Companies with global beta')\n",
    "plt.xticks([i + bar_width/2 for i in index], companies)\n",
    "plt.legend()\n",
    "\n",
    "# Adding values on top of bars\n",
    "for i in index:\n",
    "    plt.text(rects1[i].get_x() + rects1[i].get_width() / 2, rects1[i].get_height() + 0.01, f'{R2_new[i]:.3f}', ha='center', color='black')\n",
    "\n",
    "for i in index:\n",
    "    plt.text(rects2[i].get_x() + rects2[i].get_width() / 2, rects2[i].get_height() + 0.01, f'{ref_new[i]:.3f}', ha='center', color='black')\n",
    "\n",
    "plt.legend(loc='upper center', bbox_to_anchor=(0.5, 1.15), fancybox=True, shadow=True)\n",
    "    \n",
    "# Displaying the graph\n",
    "plt.tight_layout()\n",
    "plt.show()"
   ]
  },
  {
   "cell_type": "markdown",
   "metadata": {},
   "source": [
    "# RMSPE Scores for Companies with global beta graph"
   ]
  },
  {
   "cell_type": "code",
   "execution_count": 135,
   "metadata": {},
   "outputs": [
    {
     "data": {
      "image/png": "[encoded data removed]",
      "text/plain": [
       "<Figure size 1200x800 with 1 Axes>"
      ]
     },
     "metadata": {},
     "output_type": "display_data"
    }
   ],
   "source": [
    "# Graph with local beta\n",
    "import matplotlib.pyplot as plt\n",
    "\n",
    "Tesla_RMSPE_scores_new = [Tesla_RMSPE_new, 0.176]\n",
    "Apple_RMSPE_scores_new = [Apple_RMSPE_new, 0.235]\n",
    "Amazon_RMSPE_scores_new = [Amazon_RMSPE_new, 0.168]\n",
    "Facebook_RMSPE_scores_new = [Facebook_RMSPE_new, 0.203]\n",
    "Google_RMSPE_scores_new = [Google_RMSPE_new, 0.207]\n",
    "Goldman_RMSPE_scores_new = [Goldman_RMSPE_new, 0.225]\n",
    "jpm_RMSPE_scores_new = [jpm_RMSPE_new, 0.204]\n",
    "Netflix_RMSPE_scores_new = [netflix_RMSPE_new, 0.197]\n",
    "Invesco_RMSPE_scores_new = [invesco_RMSPE_new, 0.226]\n",
    "spy_RMSPE_scores = [0.187, 0.244]\n",
    "\n",
    "# Data for R2 scores\n",
    "companies = ['Tesla', 'Apple', 'Amazon', 'Facebook', 'Google', 'Goldman', 'JPM', 'Netflix', 'Invesco', 'SPY']\n",
    "RMSPE_scores_new = [Tesla_RMSPE_scores_new, Apple_RMSPE_scores_new, Amazon_RMSPE_scores_new, Facebook_RMSPE_scores_new, Google_RMSPE_scores_new, Goldman_RMSPE_scores_new, jpm_RMSPE_scores_new, Netflix_RMSPE_scores_new, Invesco_RMSPE_scores_new, spy_RMSPE_scores]\n",
    "\n",
    "# Extracting R2 scores and reference values\n",
    "RMSPE_new = [x[0] for x in RMSPE_scores_new]\n",
    "ref_RMSPE_new = [x[1] for x in RMSPE_scores_new]\n",
    "\n",
    "# Setting up the figure\n",
    "fig, ax = plt.subplots(figsize=(12, 8))\n",
    "index = range(len(companies))\n",
    "bar_width = 0.4\n",
    "opacity = 0.8\n",
    "\n",
    "# Plotting RMSPE scores\n",
    "rects1 = plt.bar(index, RMSPE_new, bar_width,\n",
    "                 alpha=opacity,\n",
    "                 color='b',\n",
    "                 label='Our model')\n",
    "\n",
    "# Plotting reference values\n",
    "rects2 = plt.bar([i + bar_width for i in index], ref_RMSPE_new, bar_width,\n",
    "                 alpha=opacity,\n",
    "                 color='r',\n",
    "                 label='Naive')\n",
    "\n",
    "# Adding labels and legends\n",
    "plt.xlabel('Companies')\n",
    "plt.ylabel('RMSPE Score')\n",
    "plt.title('RMSPE Scores for Companies with global beta')\n",
    "plt.xticks([i + bar_width/2 for i in index], companies)\n",
    "plt.legend()\n",
    "\n",
    "# Adding values on top of bars\n",
    "for i in index:\n",
    "    plt.text(rects1[i].get_x() + rects1[i].get_width() / 2, rects1[i].get_height() + 0.01, f'{RMSPE_new[i]:.3f}', ha='center', color='black')\n",
    "\n",
    "for i in index:\n",
    "    plt.text(rects2[i].get_x() + rects2[i].get_width() / 2, rects2[i].get_height() + 0.01, f'{ref_RMSPE_new[i]:.3f}', ha='center', color='black')\n",
    "\n",
    "ax.spines['top'].set_position(('axes', 1.01))\n",
    "plt.legend(loc='upper center', bbox_to_anchor=(0.5, 1.15), fancybox=True, shadow=True)\n",
    "    \n",
    "# Displaying the graph\n",
    "plt.tight_layout()\n",
    "plt.show()"
   ]
  },
  {
   "cell_type": "markdown",
   "metadata": {},
   "source": [
    "# Overall R2 score of model with global Beta"
   ]
  },
  {
   "cell_type": "code",
   "execution_count": 83,
   "metadata": {},
   "outputs": [
    {
     "name": "stdout",
     "output_type": "stream",
     "text": [
      "0.865 0.198\n"
     ]
    }
   ],
   "source": [
    "allR2 = []\n",
    "for i in range (1152):\n",
    "    allR2.append(Tesla_modelled_vol_new[i])\n",
    "    allR2.append(Apple_modelled_vol_new[i])\n",
    "    allR2.append(Amazon_modelled_vol_new[i])\n",
    "    allR2.append(Google_modelled_vol_new[i])\n",
    "    allR2.append(jpm_modelled_vol_new[i])\n",
    "    allR2.append(Netflix_modelled_vol_new[i])\n",
    "    allR2.append(Facebook_modelled_vol_new[i])\n",
    "    allR2.append(Goldman_modelled_vol_new[i])\n",
    "    allR2.append(spy_modelled_vol_new[i])\n",
    "    allR2.append(invesco_modelled_vol_new[i])\n",
    "r2_score_val = round(r2_score(y_true=train['target'], y_pred=allR2), 3)\n",
    "rmspe_val = round(rmspe(y_true=train['target'], y_pred=allR2), 3)\n",
    "print(r2_score_val, rmspe_val)"
   ]
  },
  {
   "cell_type": "markdown",
   "metadata": {},
   "source": [
    "# Overall R2 score of model with local Beta"
   ]
  },
  {
   "cell_type": "code",
   "execution_count": 84,
   "metadata": {},
   "outputs": [
    {
     "name": "stdout",
     "output_type": "stream",
     "text": [
      "0.864 0.198\n"
     ]
    }
   ],
   "source": [
    "allR2_new = []\n",
    "for i in range (1152):\n",
    "    allR2_new.append(Tesla_modelled_vol[i])\n",
    "    allR2_new.append(Apple_modelled_vol[i])\n",
    "    allR2_new.append(Amazon_modelled_vol[i])\n",
    "    allR2_new.append(Google_modelled_vol[i])\n",
    "    allR2_new.append(jpm_modelled_vol[i])\n",
    "    allR2_new.append(Netflix_modelled_vol[i])\n",
    "    allR2_new.append(Facebook_modelled_vol[i])\n",
    "    allR2_new.append(Goldman_modelled_vol[i])\n",
    "    allR2_new.append(spy_modelled_vol_new[i])\n",
    "    allR2_new.append(invesco_modelled_vol[i])\n",
    "r2_score_val_new = round(r2_score(y_true=train['target'], y_pred=allR2_new), 3)\n",
    "rmspe_val_new = round(rmspe(y_true=train['target'], y_pred=allR2_new), 3)\n",
    "print(r2_score_val_new, rmspe_val_new)"
   ]
  },
  {
   "cell_type": "markdown",
   "metadata": {},
   "source": [
    "# Graph comparing overall R2 scores of Naive and our models"
   ]
  },
  {
   "cell_type": "code",
   "execution_count": 1,
   "metadata": {},
   "outputs": [
    {
     "data": {
      "image/png": "[encoded data removed]",
      "text/plain": [
       "<Figure size 640x480 with 1 Axes>"
      ]
     },
     "metadata": {},
     "output_type": "display_data"
    }
   ],
   "source": [
    "import matplotlib.pyplot as plt\n",
    "\n",
    "Overall_R2_scores = [0.845, 0.864, 0.865]\n",
    "x_labels = ['Naive', 'Local Beta', 'Without Local Beta']\n",
    "\n",
    "# Create a bar chart\n",
    "plt.bar(x_labels, Overall_R2_scores)\n",
    "\n",
    "# Add labels and title\n",
    "plt.xlabel('Models')\n",
    "plt.ylabel('Overall R2 Scores')\n",
    "plt.title('Comparison of R2 Scores for Different Models')\n",
    "\n",
    "# Add values on top of the bars\n",
    "for i in range(len(x_labels)):\n",
    "    plt.text(x_labels[i], Overall_R2_scores[i], str(Overall_R2_scores[i]), ha='center', va='bottom')\n",
    "\n",
    "# Show the plot\n",
    "plt.show()"
   ]
  },
  {
   "cell_type": "code",
   "execution_count": null,
   "metadata": {},
   "outputs": [],
   "source": []
  }
 ],
 "metadata": {
  "kernelspec": {
   "display_name": "Python 3 (ipykernel)",
   "language": "python",
   "name": "python3"
  },
  "language_info": {
   "codemirror_mode": {
    "name": "ipython",
    "version": 3
   },
   "file_extension": ".py",
   "mimetype": "text/x-python",
   "name": "python",
   "nbconvert_exporter": "python",
   "pygments_lexer": "ipython3",
   "version": "3.9.7"
  }
 },
 "nbformat": 4,
 "nbformat_minor": 2
}
